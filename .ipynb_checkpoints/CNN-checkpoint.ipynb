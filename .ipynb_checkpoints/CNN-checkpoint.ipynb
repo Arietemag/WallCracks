{
 "cells": [
  {
   "cell_type": "markdown",
   "id": "b2fe42d1",
   "metadata": {},
   "source": [
    "Original code is from https://www.kaggle.com/rahulabhishek/surface-crack-detection-using-convolution-neural"
   ]
  },
  {
   "cell_type": "code",
   "execution_count": 25,
   "id": "02d1324f",
   "metadata": {},
   "outputs": [],
   "source": [
    "import numpy as np\n",
    "import pandas as pd\n",
    "\n",
    "from sklearn.model_selection import train_test_split\n",
    "import matplotlib.pyplot as plt \n",
    "import seaborn as sns \n",
    "#import plotly.express as px \n",
    "\n",
    "# for evalution of the model \n",
    "from sklearn.metrics import confusion_matrix, classification_report\n",
    "\n",
    "from pathlib import Path \n",
    "import tensorflow as tf\n",
    "from tensorflow import keras\n",
    "from tensorflow.keras import layers\n",
    "from tensorflow.keras.preprocessing import image_dataset_from_directory"
   ]
  },
  {
   "cell_type": "markdown",
   "id": "33f36121",
   "metadata": {},
   "source": [
    "## Data import"
   ]
  },
  {
   "cell_type": "code",
   "execution_count": 2,
   "id": "4b579836",
   "metadata": {},
   "outputs": [],
   "source": [
    "positive_data = Path(\"C:\\\\Users\\\\jarko\\\\Desktop\\\\cracks_dataset\\\\Positive\")\n",
    "negative_data = Path(\"C:\\\\Users\\\\jarko\\\\Desktop\\\\cracks_dataset\\\\Negative\")\n"
   ]
  },
  {
   "cell_type": "markdown",
   "id": "df5e66b8",
   "metadata": {},
   "source": [
    "Flow from data frame --> this case we will use when we are having data set stored in the directory but test and train data are not seperated and using this concept we are creating directory by passing the path of original data set to create the new directory and from there we generate data frame and split is as per our convinence "
   ]
  },
  {
   "cell_type": "markdown",
   "id": "5cf49736",
   "metadata": {},
   "source": [
    "### User defined function for generate data frame"
   ]
  },
  {
   "cell_type": "code",
   "execution_count": 3,
   "id": "d6c5d729",
   "metadata": {},
   "outputs": [],
   "source": [
    "def generate_df(image_data,label):\n",
    "    dataset_path = pd.Series(list(image_data.glob(r'*.jpg')), name = 'dataset_path').astype(str) \n",
    "    labels = pd.Series(label, name='label', index=dataset_path.index)\n",
    "    df = pd.concat([dataset_path,labels], axis=1)\n",
    "    return df"
   ]
  },
  {
   "cell_type": "code",
   "execution_count": 4,
   "id": "576df0bb",
   "metadata": {},
   "outputs": [
    {
     "name": "stdout",
     "output_type": "stream",
     "text": [
      "                                        dataset_path     label\n",
      "0  C:\\Users\\jarko\\Desktop\\cracks_dataset\\Positive...  POSITIVE\n",
      "1  C:\\Users\\jarko\\Desktop\\cracks_dataset\\Positive...  POSITIVE\n",
      "2  C:\\Users\\jarko\\Desktop\\cracks_dataset\\Positive...  POSITIVE\n",
      "3  C:\\Users\\jarko\\Desktop\\cracks_dataset\\Positive...  POSITIVE\n",
      "4  C:\\Users\\jarko\\Desktop\\cracks_dataset\\Positive...  POSITIVE\n",
      "                                            dataset_path     label\n",
      "39995  C:\\Users\\jarko\\Desktop\\cracks_dataset\\Negative...  NEGATIVE\n",
      "39996  C:\\Users\\jarko\\Desktop\\cracks_dataset\\Negative...  NEGATIVE\n",
      "39997  C:\\Users\\jarko\\Desktop\\cracks_dataset\\Negative...  NEGATIVE\n",
      "39998  C:\\Users\\jarko\\Desktop\\cracks_dataset\\Negative...  NEGATIVE\n",
      "39999  C:\\Users\\jarko\\Desktop\\cracks_dataset\\Negative...  NEGATIVE\n"
     ]
    }
   ],
   "source": [
    "positive_df = generate_df(positive_data, label='POSITIVE')\n",
    "negative_df = generate_df(negative_data, label='NEGATIVE')\n",
    "\n",
    "full_df = pd.concat([positive_df, negative_df], axis = 0).reset_index(drop=True)\n",
    "print(full_df.head())\n",
    "print(full_df.tail())\n"
   ]
  },
  {
   "cell_type": "code",
   "execution_count": 5,
   "id": "5e137197",
   "metadata": {},
   "outputs": [],
   "source": [
    "X = full_df.dataset_path\n",
    "y = full_df.label"
   ]
  },
  {
   "cell_type": "code",
   "execution_count": 8,
   "id": "08e8d34b",
   "metadata": {},
   "outputs": [
    {
     "data": {
      "text/plain": [
       "(28000,)"
      ]
     },
     "execution_count": 8,
     "metadata": {},
     "output_type": "execute_result"
    }
   ],
   "source": [
    "X_train, X_test, y_train, y_test = train_test_split(X,y, test_size=0.3, shuffle='True', random_state=1, stratify=y)\n",
    "X_train.shape"
   ]
  },
  {
   "cell_type": "code",
   "execution_count": 12,
   "id": "67fe39a4",
   "metadata": {},
   "outputs": [
    {
     "data": {
      "text/html": [
       "<div>\n",
       "<style scoped>\n",
       "    .dataframe tbody tr th:only-of-type {\n",
       "        vertical-align: middle;\n",
       "    }\n",
       "\n",
       "    .dataframe tbody tr th {\n",
       "        vertical-align: top;\n",
       "    }\n",
       "\n",
       "    .dataframe thead th {\n",
       "        text-align: right;\n",
       "    }\n",
       "</style>\n",
       "<table border=\"1\" class=\"dataframe\">\n",
       "  <thead>\n",
       "    <tr style=\"text-align: right;\">\n",
       "      <th></th>\n",
       "      <th>dataset_path</th>\n",
       "      <th>label</th>\n",
       "    </tr>\n",
       "  </thead>\n",
       "  <tbody>\n",
       "    <tr>\n",
       "      <th>14595</th>\n",
       "      <td>C:\\Users\\jarko\\Desktop\\cracks_dataset\\Positive...</td>\n",
       "      <td>POSITIVE</td>\n",
       "    </tr>\n",
       "    <tr>\n",
       "      <th>17029</th>\n",
       "      <td>C:\\Users\\jarko\\Desktop\\cracks_dataset\\Positive...</td>\n",
       "      <td>POSITIVE</td>\n",
       "    </tr>\n",
       "    <tr>\n",
       "      <th>23416</th>\n",
       "      <td>C:\\Users\\jarko\\Desktop\\cracks_dataset\\Negative...</td>\n",
       "      <td>NEGATIVE</td>\n",
       "    </tr>\n",
       "    <tr>\n",
       "      <th>18477</th>\n",
       "      <td>C:\\Users\\jarko\\Desktop\\cracks_dataset\\Positive...</td>\n",
       "      <td>POSITIVE</td>\n",
       "    </tr>\n",
       "    <tr>\n",
       "      <th>22829</th>\n",
       "      <td>C:\\Users\\jarko\\Desktop\\cracks_dataset\\Negative...</td>\n",
       "      <td>NEGATIVE</td>\n",
       "    </tr>\n",
       "  </tbody>\n",
       "</table>\n",
       "</div>"
      ],
      "text/plain": [
       "                                            dataset_path     label\n",
       "14595  C:\\Users\\jarko\\Desktop\\cracks_dataset\\Positive...  POSITIVE\n",
       "17029  C:\\Users\\jarko\\Desktop\\cracks_dataset\\Positive...  POSITIVE\n",
       "23416  C:\\Users\\jarko\\Desktop\\cracks_dataset\\Negative...  NEGATIVE\n",
       "18477  C:\\Users\\jarko\\Desktop\\cracks_dataset\\Positive...  POSITIVE\n",
       "22829  C:\\Users\\jarko\\Desktop\\cracks_dataset\\Negative...  NEGATIVE"
      ]
     },
     "execution_count": 12,
     "metadata": {},
     "output_type": "execute_result"
    }
   ],
   "source": [
    "train_df = pd.concat([X_train,y_train], axis = 1)\n",
    "train_df.head()\n",
    "\n",
    "test_df = pd.concat([X_test,y_test], axis = 1)\n",
    "test_df.head()"
   ]
  },
  {
   "cell_type": "code",
   "execution_count": 16,
   "id": "7b045584",
   "metadata": {},
   "outputs": [
    {
     "name": "stdout",
     "output_type": "stream",
     "text": [
      "Found 22400 validated image filenames belonging to 2 classes.\n",
      "Found 5600 validated image filenames belonging to 2 classes.\n",
      "Found 12000 validated image filenames belonging to 2 classes.\n"
     ]
    }
   ],
   "source": [
    "train_data_set = tf.keras.preprocessing.image.ImageDataGenerator(rescale = 1./255, validation_split = 0.2)\n",
    "test_data_set = tf.keras.preprocessing.image.ImageDataGenerator(rescale = 1./255)\n",
    "\n",
    "train_data = train_data_set.flow_from_dataframe(train_df,\n",
    "                                               x_col = 'dataset_path',\n",
    "                                               y_col = 'label',\n",
    "                                               target_size = (120,120),\n",
    "                                               color_mode = 'rgb',\n",
    "                                               class_mode = 'binary',\n",
    "                                               batch_size = 32,\n",
    "                                               shuffle = 'True',\n",
    "                                               seed = 1,\n",
    "                                               subset = 'training',\n",
    "                                               )\n",
    "val_data = train_data_set.flow_from_dataframe(train_df,\n",
    "                                               x_col = 'dataset_path',\n",
    "                                               y_col = 'label',\n",
    "                                               target_size = (120,120),\n",
    "                                               color_mode = 'rgb',\n",
    "                                               class_mode = 'binary',\n",
    "                                               batch_size = 32,\n",
    "                                               shuffle = 'True',\n",
    "                                               seed = 1,\n",
    "                                               subset = 'validation',\n",
    "                                               )\n",
    "test_data = test_data_set.flow_from_dataframe(test_df,\n",
    "                                               x_col = 'dataset_path',\n",
    "                                               y_col = 'label',\n",
    "                                               target_size = (120,120),\n",
    "                                               color_mode = 'rgb',\n",
    "                                               class_mode = 'binary',\n",
    "                                               batch_size = 32,\n",
    "                                               shuffle = 'True',\n",
    "                                               seed = 1,\n",
    "                                               )\n"
   ]
  },
  {
   "cell_type": "markdown",
   "id": "83bb0212",
   "metadata": {},
   "source": [
    "## Model"
   ]
  },
  {
   "cell_type": "code",
   "execution_count": 17,
   "id": "4fca21e3",
   "metadata": {},
   "outputs": [
    {
     "name": "stdout",
     "output_type": "stream",
     "text": [
      "Model: \"model\"\n",
      "_________________________________________________________________\n",
      "Layer (type)                 Output Shape              Param #   \n",
      "=================================================================\n",
      "input_1 (InputLayer)         [(None, 120, 120, 3)]     0         \n",
      "_________________________________________________________________\n",
      "conv2d (Conv2D)              (None, 118, 118, 16)      448       \n",
      "_________________________________________________________________\n",
      "max_pooling2d (MaxPooling2D) (None, 59, 59, 16)        0         \n",
      "_________________________________________________________________\n",
      "conv2d_1 (Conv2D)            (None, 57, 57, 32)        4640      \n",
      "_________________________________________________________________\n",
      "max_pooling2d_1 (MaxPooling2 (None, 28, 28, 32)        0         \n",
      "_________________________________________________________________\n",
      "global_average_pooling2d (Gl (None, 32)                0         \n",
      "_________________________________________________________________\n",
      "dense (Dense)                (None, 1)                 33        \n",
      "=================================================================\n",
      "Total params: 5,121\n",
      "Trainable params: 5,121\n",
      "Non-trainable params: 0\n",
      "_________________________________________________________________\n",
      "None\n"
     ]
    }
   ],
   "source": [
    "inputs = tf.keras.Input(shape=(120,120,3))\n",
    "x = tf.keras.layers.Conv2D(filters = 16,kernel_size=(3,3),activation='relu')(inputs)\n",
    "x = tf.keras.layers.MaxPool2D(pool_size=(2,2))(x)\n",
    "x = tf.keras.layers.Conv2D(filters = 32,kernel_size=(3,3),activation='relu')(x)\n",
    "x = tf.keras.layers.MaxPool2D(pool_size=(2,2))(x)\n",
    "x = tf.keras.layers.GlobalAveragePooling2D()(x)\n",
    "outputs = tf.keras.layers.Dense(1,activation = 'sigmoid')(x)\n",
    "model = tf.keras.Model(inputs=inputs, outputs = outputs)\n",
    "model.compile(optimizer = 'adam',\n",
    "             loss = 'binary_crossentropy',\n",
    "              metrics = ['accuracy']\n",
    "             )\n",
    "print(model.summary())"
   ]
  },
  {
   "cell_type": "code",
   "execution_count": 18,
   "id": "56f0fafd",
   "metadata": {},
   "outputs": [
    {
     "name": "stdout",
     "output_type": "stream",
     "text": [
      "Epoch 1/10\n",
      "700/700 [==============================] - 74s 90ms/step - loss: 0.4942 - accuracy: 0.7820 - val_loss: 0.2568 - val_accuracy: 0.9475\n",
      "Epoch 2/10\n",
      "700/700 [==============================] - 56s 80ms/step - loss: 0.1699 - accuracy: 0.9530 - val_loss: 0.1156 - val_accuracy: 0.9709\n",
      "Epoch 3/10\n",
      "700/700 [==============================] - 63s 91ms/step - loss: 0.1081 - accuracy: 0.9681 - val_loss: 0.0834 - val_accuracy: 0.9784\n",
      "Epoch 4/10\n",
      "700/700 [==============================] - 67s 95ms/step - loss: 0.0895 - accuracy: 0.9724 - val_loss: 0.0677 - val_accuracy: 0.9798\n",
      "Epoch 5/10\n",
      "700/700 [==============================] - 66s 94ms/step - loss: 0.0778 - accuracy: 0.9757 - val_loss: 0.0624 - val_accuracy: 0.9814\n",
      "Epoch 6/10\n",
      "700/700 [==============================] - 65s 93ms/step - loss: 0.0742 - accuracy: 0.9776 - val_loss: 0.0571 - val_accuracy: 0.9827\n",
      "Epoch 7/10\n",
      "700/700 [==============================] - 68s 98ms/step - loss: 0.0730 - accuracy: 0.9777 - val_loss: 0.0554 - val_accuracy: 0.9845\n",
      "Epoch 8/10\n",
      "700/700 [==============================] - 67s 96ms/step - loss: 0.0684 - accuracy: 0.9783 - val_loss: 0.0525 - val_accuracy: 0.9846\n",
      "Epoch 9/10\n",
      "700/700 [==============================] - 67s 95ms/step - loss: 0.0683 - accuracy: 0.9797 - val_loss: 0.0519 - val_accuracy: 0.9816\n",
      "Epoch 10/10\n",
      "700/700 [==============================] - 69s 98ms/step - loss: 0.0644 - accuracy: 0.9794 - val_loss: 0.0502 - val_accuracy: 0.9823\n"
     ]
    }
   ],
   "source": [
    "history = model.fit(\n",
    "train_data,\n",
    "validation_data = val_data,\n",
    "epochs = 10,\n",
    "callbacks = [tf.keras.callbacks.EarlyStopping(\n",
    "monitor = 'val_loss',\n",
    "patience =3,\n",
    "restore_best_weights = True)])"
   ]
  },
  {
   "cell_type": "markdown",
   "id": "a28217ef",
   "metadata": {},
   "source": [
    "\n",
    "visualization of training and validation loss over time"
   ]
  },
  {
   "cell_type": "code",
   "execution_count": 19,
   "id": "b65fd58a",
   "metadata": {},
   "outputs": [
    {
     "ename": "NameError",
     "evalue": "name 'px' is not defined",
     "output_type": "error",
     "traceback": [
      "\u001b[1;31m---------------------------------------------------------------------------\u001b[0m",
      "\u001b[1;31mNameError\u001b[0m                                 Traceback (most recent call last)",
      "\u001b[1;32m<ipython-input-19-2b761d7160d5>\u001b[0m in \u001b[0;36m<module>\u001b[1;34m\u001b[0m\n\u001b[1;32m----> 1\u001b[1;33m fig = px.line(\n\u001b[0m\u001b[0;32m      2\u001b[0m \u001b[0mhistory\u001b[0m\u001b[1;33m.\u001b[0m\u001b[0mhistory\u001b[0m\u001b[1;33m,\u001b[0m\u001b[1;33m\u001b[0m\u001b[1;33m\u001b[0m\u001b[0m\n\u001b[0;32m      3\u001b[0m \u001b[0my\u001b[0m\u001b[1;33m=\u001b[0m\u001b[1;33m[\u001b[0m\u001b[1;34m'loss'\u001b[0m\u001b[1;33m,\u001b[0m\u001b[1;34m'val_loss'\u001b[0m\u001b[1;33m]\u001b[0m\u001b[1;33m,\u001b[0m\u001b[1;33m\u001b[0m\u001b[1;33m\u001b[0m\u001b[0m\n\u001b[0;32m      4\u001b[0m \u001b[0mlabels\u001b[0m\u001b[1;33m=\u001b[0m \u001b[1;33m{\u001b[0m\u001b[1;34m'index'\u001b[0m\u001b[1;33m:\u001b[0m\u001b[1;34m'epoch'\u001b[0m\u001b[1;33m,\u001b[0m\u001b[1;34m'value'\u001b[0m\u001b[1;33m:\u001b[0m\u001b[1;34m'loss'\u001b[0m\u001b[1;33m}\u001b[0m\u001b[1;33m,\u001b[0m\u001b[1;33m\u001b[0m\u001b[1;33m\u001b[0m\u001b[0m\n\u001b[0;32m      5\u001b[0m title = \"training and validation loss \")\n",
      "\u001b[1;31mNameError\u001b[0m: name 'px' is not defined"
     ]
    }
   ],
   "source": [
    "fig = px.line(\n",
    "history.history,\n",
    "y=['loss','val_loss'],\n",
    "labels= {'index':'epoch','value':'loss'},\n",
    "title = \"training and validation loss \")\n",
    "fig.show()\n",
    "\n"
   ]
  },
  {
   "cell_type": "code",
   "execution_count": null,
   "id": "744622b8",
   "metadata": {},
   "outputs": [],
   "source": [
    "fig = px.line(\n",
    "history.history,\n",
    "y = ['accuracy','val_accuracy'],\n",
    "labels = {'index':'epoch','value':'accuracy '},\n",
    "title = ' training and validation accuracy ')\n",
    "fig.show()"
   ]
  },
  {
   "cell_type": "markdown",
   "id": "6bed6eea",
   "metadata": {},
   "source": [
    "## Result"
   ]
  },
  {
   "cell_type": "code",
   "execution_count": 21,
   "id": "34d7d8a0",
   "metadata": {},
   "outputs": [],
   "source": [
    "def evaluate_model (model,test_data):\n",
    "    results = model.evaluate (test_data,verbose=0)\n",
    "    loss = results[0]\n",
    "    accuracy = results[1]\n",
    "    print(\"test loss: {:.5f}\".format(loss))\n",
    "    print(\"test accuracy: {:.2f}%\".format(accuracy*100))"
   ]
  },
  {
   "cell_type": "code",
   "execution_count": 22,
   "id": "77163fc8",
   "metadata": {},
   "outputs": [
    {
     "name": "stdout",
     "output_type": "stream",
     "text": [
      "test loss: 0.05582\n",
      "test accuracy: 98.19%\n"
     ]
    }
   ],
   "source": [
    "evaluate_model(model,test_data)"
   ]
  },
  {
   "cell_type": "code",
   "execution_count": 26,
   "id": "9f47a2ca",
   "metadata": {},
   "outputs": [
    {
     "data": {
      "image/png": "[encoded data removed]",
      "text/plain": [
       "<Figure size 432x432 with 1 Axes>"
      ]
     },
     "metadata": {
      "needs_background": "light"
     },
     "output_type": "display_data"
    }
   ],
   "source": [
    "y_pred = np.squeeze((model.predict(test_data)>=0.5).astype(np.int))\n",
    "cm = confusion_matrix(test_data.labels, y_pred)\n",
    "clr = classification_report (test_data.labels, y_pred, target_names = [\"NEGATIVE\",\"POSITIVE\"])\n",
    "plt.figure(figsize=(6,6))\n",
    "sns.heatmap(cm,annot=True,fmt='g',vmin=0,cmap='Blues',cbar=False)\n",
    "plt.xticks(ticks=np.arange(2)+.5,labels = ['NEGATIVE','POSITIVE'])\n",
    "plt.yticks(ticks=np.arange(2)+.5,labels = ['NEGATIVE','POSITIVE'])\n",
    "plt.xlabel(\"predicted\")\n",
    "plt.ylabel(\"actual\")\n",
    "plt.show()"
   ]
  },
  {
   "cell_type": "code",
   "execution_count": 27,
   "id": "3062e557",
   "metadata": {},
   "outputs": [
    {
     "name": "stdout",
     "output_type": "stream",
     "text": [
      "classification Report:\n",
      "---------------------------------------------------------------------\n",
      "               precision    recall  f1-score   support\n",
      "\n",
      "    NEGATIVE       0.50      0.51      0.50      6000\n",
      "    POSITIVE       0.50      0.49      0.49      6000\n",
      "\n",
      "    accuracy                           0.50     12000\n",
      "   macro avg       0.50      0.50      0.50     12000\n",
      "weighted avg       0.50      0.50      0.50     12000\n",
      "\n"
     ]
    }
   ],
   "source": [
    "print(\"classification Report:\\n---------------------------------------------------------------------\\n\",clr)"
   ]
  }
 ],
 "metadata": {
  "kernelspec": {
   "display_name": "Python 3",
   "language": "python",
   "name": "python3"
  },
  "language_info": {
   "codemirror_mode": {
    "name": "ipython",
    "version": 3
   },
   "file_extension": ".py",
   "mimetype": "text/x-python",
   "name": "python",
   "nbconvert_exporter": "python",
   "pygments_lexer": "ipython3",
   "version": "3.8.8"
  }
 },
 "nbformat": 4,
 "nbformat_minor": 5
}
